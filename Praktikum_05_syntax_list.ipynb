{
  "nbformat": 4,
  "nbformat_minor": 0,
  "metadata": {
    "colab": {
      "provenance": [],
      "authorship_tag": "ABX9TyP29EA9R3mUqHFzeKoNx7F4",
      "include_colab_link": true
    },
    "kernelspec": {
      "name": "python3",
      "display_name": "Python 3"
    },
    "language_info": {
      "name": "python"
    }
  },
  "cells": [
    {
      "cell_type": "markdown",
      "metadata": {
        "id": "view-in-github",
        "colab_type": "text"
      },
      "source": [
        "<a href=\"https://colab.research.google.com/github/zaulaasma25/DDP-Zaula-0101125109/blob/main/Praktikum_05_syntax_list.ipynb\" target=\"_parent\"><img src=\"https://colab.research.google.com/assets/colab-badge.svg\" alt=\"Open In Colab\"/></a>"
      ]
    },
    {
      "cell_type": "code",
      "execution_count": 49,
      "metadata": {
        "colab": {
          "base_uri": "https://localhost:8080/"
        },
        "id": "SjALI0vHxS7I",
        "outputId": "6ccb9c6c-1f39-414d-c4d2-6b98ec54557d"
      },
      "outputs": [
        {
          "output_type": "stream",
          "name": "stdout",
          "text": [
            "['Beat', 'Motor', 200, 'Hitam', 2]\n",
            "['Beat', 'Motor', 200, 'Hitam', 2, 5000, 'metic']\n",
            "['Beat', 'Motor', 'Honda', 200, 'Hitam', 2, 5000, 'metic']\n"
          ]
        }
      ],
      "source": [
        "namaKendaraan = \"Beat\"\n",
        "jenisKendaraan = \"Motor\"\n",
        "ccKendaraan = 200\n",
        "warnaKendaraan = \"Hitam\"\n",
        "rodaKendaraan = 2\n",
        "\n",
        "data_kendaraan =[namaKendaraan,jenisKendaraan,\n",
        "ccKendaraan,warnaKendaraan,rodaKendaraan]\n",
        "\n",
        "print(data_kendaraan)\n",
        "\n",
        "hargaKendaraan = 5000\n",
        "tipeKendaraan = \"metic\"\n",
        "\n",
        "data_kendaraan.append(hargaKendaraan)\n",
        "data_kendaraan.append(tipeKendaraan)\n",
        "print(data_kendaraan)\n",
        "\n",
        "merkKendaraan = \"Honda\"\n",
        "data_kendaraan.insert(2, merkKendaraan)\n",
        "print(data_kendaraan)"
      ]
    },
    {
      "cell_type": "code",
      "source": [
        "pilihan = input(\"\"\"\n",
        "silahkan pilih menu yang diingkan\n",
        "=================================\n",
        "1. Luas persegi\n",
        "2. Luas lingkaran\n",
        "3. Luas segitiga\n",
        "=================================\n",
        "Kirimkan hanya angka saja,\n",
        "jawaban = \"\"\")\n",
        "\n",
        "match pilihan:\n",
        "  case \"1\":\n",
        "    sisi = int(input (\"sisi= \"))\n",
        "    Luas = sisi * sisi\n",
        "\n",
        "    print(f\"Luas persegi dengan sisi (sisi) adalah (Luas)\")\n",
        "    # luas persegi\n",
        "  case \"2\":\n",
        "    jarijari = int(input (\"jarijari= \"))\n",
        "    Luas = 3.14 * jarijari**2\n",
        "\n",
        "    print(f\"Luas lingkaran dengan jari-jari (jari-jari) adalah (Luas)\")\n",
        "    # luas lingkaran\n",
        "    # phi * jari-jari**2\n",
        "  case \"3\":\n",
        "    alas = int(input (\"alas= \"))\n",
        "    tinggi = int(input (\"tinggi= \"))\n",
        "    Luas = alas * tinggi /2\n",
        "\n",
        "    print(f\"Luas segitiga dengan alas (alas) * tinggi (tinggi) adalah (Luas)\")\n",
        "\n",
        "    # luas segitiga\n",
        "    # (alas * tinggi)/2\n",
        "  case _:\n",
        "    print(\"salah masukin\")"
      ],
      "metadata": {
        "colab": {
          "base_uri": "https://localhost:8080/"
        },
        "id": "xm2DHSSV9Nz6",
        "outputId": "b595f0d5-7e6b-452b-9cf4-16d0c0d759ea"
      },
      "execution_count": 44,
      "outputs": [
        {
          "output_type": "stream",
          "name": "stdout",
          "text": [
            "\n",
            "silahkan pilih menu yang diingkan\n",
            "=================================\n",
            "1. Luas persegi\n",
            "2. Luas lingkaran\n",
            "3. Luas segitiga\n",
            "=================================\n",
            "Kirimkan hanya angka saja,\n",
            "jawaban = 6\n",
            "salah masukin\n"
          ]
        }
      ]
    }
  ]
}