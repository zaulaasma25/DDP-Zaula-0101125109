{
  "nbformat": 4,
  "nbformat_minor": 0,
  "metadata": {
    "colab": {
      "provenance": [],
      "authorship_tag": "ABX9TyN0Wm9eFgNEKKrEQ72WP8De",
      "include_colab_link": true
    },
    "kernelspec": {
      "name": "python3",
      "display_name": "Python 3"
    },
    "language_info": {
      "name": "python"
    }
  },
  "cells": [
    {
      "cell_type": "markdown",
      "metadata": {
        "id": "view-in-github",
        "colab_type": "text"
      },
      "source": [
        "<a href=\"https://colab.research.google.com/github/zaulaasma25/DDP-Zaula-0101125109/blob/main/Praktikum_6_looping.ipynb\" target=\"_parent\"><img src=\"https://colab.research.google.com/assets/colab-badge.svg\" alt=\"Open In Colab\"/></a>"
      ]
    },
    {
      "cell_type": "code",
      "execution_count": 5,
      "metadata": {
        "colab": {
          "base_uri": "https://localhost:8080/"
        },
        "id": "xF2oZ6fiGQ1f",
        "outputId": "7abeb556-4afe-4207-ba7b-a051bddfb136"
      },
      "outputs": [
        {
          "output_type": "stream",
          "name": "stdout",
          "text": [
            "951\n",
            "651\n",
            "69\n",
            "319\n",
            "601\n",
            "485\n",
            "507\n",
            "725\n",
            "547\n",
            "615\n",
            "83\n",
            "165\n",
            "141\n",
            "501\n",
            "263\n",
            "617\n",
            "865\n",
            "575\n",
            "219\n",
            "105\n",
            "941\n",
            "47\n",
            "907\n",
            "375\n",
            "823\n",
            "597\n",
            "615\n",
            "953\n",
            "345\n",
            "399\n",
            "219\n",
            "237\n",
            "949\n",
            "687\n",
            "217\n",
            "815\n",
            "67\n",
            "767\n"
          ]
        }
      ],
      "source": [
        "#Print semua bilangan ganjil dari list berikut\n",
        "#Hentikan perulangan ketika sudah melewati bilangan 553\n",
        "#Pakai perulangan while.\n",
        "\n",
        "numbers = [ 951, 402, 984, 651, 360, 69, 408, 319, 601, 485, 980, 507, 725, 547, 544,\n",
        "615, 83, 165, 141, 501, 263, 617, 865, 575, 219, 390, 984, 592, 236, 105,\n",
        "942, 941,  386, 462, 47, 418, 907, 344, 236, 375, 823, 566, 597, 978, 328,\n",
        "615, 953, 345,  399, 162, 758, 219, 918, 237, 412, 566, 826, 248, 866, 950,\n",
        "626, 949, 687, 217, 815, 67, 104, 58, 512, 24, 892, 894, 767, 553, 81, 379,\n",
        "843, 831, 445, 742, 717, 958, 609, 842, 451, 688, 753, 854, 685, 93, 857, 440,\n",
        "380, 126, 721, 328, 753, 470, 743, 527\n",
        "]\n",
        "\n",
        "index = 0\n",
        "while index <= len(numbers):\n",
        "  if numbers[index] == 553:\n",
        "    break\n",
        "  if numbers[index]%2 == 1:\n",
        "    print(numbers[index])\n",
        "  index += 1"
      ]
    },
    {
      "cell_type": "code",
      "source": [
        "#Buat lah output dari menggunakan bahasa pemprograman python dengan:\n",
        "#1+3+5+7+9+11 +13+ 15+17 +19 = ....\n",
        "\n",
        "jumlah = 0 #variable untuk menyimpan nilai\n",
        "string = \"\" #untuk membaca tanda *\n",
        "\n",
        "bilangan = 1\n",
        "while bilangan <= 19: #untuk melakukan perulangan sebangak 19×\n",
        "  jumlah += bilangan\n",
        "  string += str (bilangan)\n",
        "  if bilangan < 19:\n",
        "    string += \"+\"\n",
        "  bilangan += 2\n",
        "print(string, \"=\", jumlah)"
      ],
      "metadata": {
        "colab": {
          "base_uri": "https://localhost:8080/"
        },
        "id": "lraNmnSBGpzN",
        "outputId": "cea06c03-212d-4a94-b77c-b15ed5c0e2ed"
      },
      "execution_count": 13,
      "outputs": [
        {
          "output_type": "stream",
          "name": "stdout",
          "text": [
            "1+3+5+7+9+11+13+15+17+19 = 100\n"
          ]
        }
      ]
    },
    {
      "cell_type": "code",
      "source": [
        "#Buat program untuk minta input jumlah baris dan buat\n",
        "#Rangkaian berikut ini\n",
        "#*\n",
        "#**\n",
        "#***\n",
        "#****\n",
        "\n",
        "baris = int(input(\"masukan angka: \"))\n",
        "for i in range(1, baris + 1):\n",
        "  print(\"*\" * i)"
      ],
      "metadata": {
        "colab": {
          "base_uri": "https://localhost:8080/"
        },
        "id": "IteWbL1lGvDB",
        "outputId": "f5b7e8b1-f0b4-4fed-f19f-db20c536fb7b"
      },
      "execution_count": 14,
      "outputs": [
        {
          "output_type": "stream",
          "name": "stdout",
          "text": [
            "masukan angka: 10\n",
            "*\n",
            "**\n",
            "***\n",
            "****\n",
            "*****\n",
            "******\n",
            "*******\n",
            "********\n",
            "*********\n",
            "**********\n"
          ]
        }
      ]
    }
  ]
}